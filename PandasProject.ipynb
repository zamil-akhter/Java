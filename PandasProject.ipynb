{
  "nbformat": 4,
  "nbformat_minor": 0,
  "metadata": {
    "colab": {
      "provenance": [],
      "authorship_tag": "ABX9TyOXhdqjHSYoSwJ3t+McVByG",
      "include_colab_link": true
    },
    "kernelspec": {
      "name": "python3",
      "display_name": "Python 3"
    },
    "language_info": {
      "name": "python"
    }
  },
  "cells": [
    {
      "cell_type": "markdown",
      "metadata": {
        "id": "view-in-github",
        "colab_type": "text"
      },
      "source": [
        "<a href=\"https://colab.research.google.com/github/zamil-akhter/Java/blob/master/PandasProject.ipynb\" target=\"_parent\"><img src=\"https://colab.research.google.com/assets/colab-badge.svg\" alt=\"Open In Colab\"/></a>"
      ]
    },
    {
      "cell_type": "code",
      "execution_count": null,
      "metadata": {
        "id": "Aycg8BY8wEsk"
      },
      "outputs": [],
      "source": [
        "import pandas as pd \n",
        "\n",
        "#read the CSV file and storing in data\n",
        "data = pd.read_csv('train.csv')\n",
        "\n",
        "#Printing the whole data\n",
        "print(data)"
      ]
    },
    {
      "cell_type": "code",
      "source": [
        "#printing the column name which have atleast one null value and storing that column name in nullcolumn list\n",
        "nullcolumn = []\n",
        "for i in data:\n",
        "  d = data[i].isna()\n",
        "  count = 0\n",
        "  for j in d:\n",
        "    if(j == True):\n",
        "      count += 1\n",
        "  if count > 0:\n",
        "    print(i, count)\n",
        "    nullcolumn.append(i)"
      ],
      "metadata": {
        "id": "Wc8lmbL-1RkF",
        "colab": {
          "base_uri": "https://localhost:8080/"
        },
        "outputId": "7c6818bb-46a3-4ac9-e4cd-9c26605d2c21"
      },
      "execution_count": 87,
      "outputs": [
        {
          "output_type": "stream",
          "name": "stdout",
          "text": [
            "LotFrontage 259\n",
            "Alley 1369\n",
            "MasVnrType 8\n",
            "MasVnrArea 8\n",
            "BsmtQual 37\n",
            "BsmtCond 37\n",
            "BsmtExposure 38\n",
            "BsmtFinType1 37\n",
            "BsmtFinType2 38\n",
            "Electrical 1\n",
            "FireplaceQu 690\n",
            "GarageType 81\n",
            "GarageYrBlt 81\n",
            "GarageFinish 81\n",
            "GarageQual 81\n",
            "GarageCond 81\n",
            "PoolQC 1453\n",
            "Fence 1179\n",
            "MiscFeature 1406\n"
          ]
        }
      ]
    },
    {
      "cell_type": "code",
      "source": [
        "nullcolumn1 = data.isnull().sum()\n",
        "print(nullcolumn1.to_string())"
      ],
      "metadata": {
        "id": "0W2bGlFzQram"
      },
      "execution_count": null,
      "outputs": []
    },
    {
      "cell_type": "code",
      "source": [
        "#column name as a list which is containing null. \n",
        "print(nullcolumn)"
      ],
      "metadata": {
        "id": "q2RWPucbYV0o"
      },
      "execution_count": null,
      "outputs": []
    },
    {
      "cell_type": "code",
      "source": [
        "#Conting the null value from \"MSSubClass\" column\n",
        "d = data[\"MSSubClass\"].isna()\n",
        "count = 0\n",
        "for i in d:\n",
        "  if(i == True):\n",
        "    count += 1\n",
        "print(\"Total Number of null in MSSubClass Column is \",count)"
      ],
      "metadata": {
        "id": "kMRAePt0g7jc"
      },
      "execution_count": null,
      "outputs": []
    },
    {
      "cell_type": "code",
      "source": [
        "#puting mean value at the place of NaN in \"LotFrontage\" column\n",
        "meanValue = data[\"LotFrontage\"].mean()\n",
        "data[\"LotFrontage\"].fillna(meanValue, inplace = True)\n",
        "print(data.to_string())"
      ],
      "metadata": {
        "id": "joO7xJUp4LmQ"
      },
      "execution_count": null,
      "outputs": []
    },
    {
      "cell_type": "code",
      "source": [
        "#Replacing unwanted value with mode value in \"MSZoning\" column\n",
        "d = data[\"MSZoning\"].unique()\n",
        "req = ['A', 'C', 'FV', 'I', 'RH', 'RL', 'RP', 'RM']\n",
        "for i in d:\n",
        "  if i not in req:\n",
        "    modeVal = data[\"MSZoning\"].mode()[0]\n",
        "    data[\"MSZoning\"].replace(i,modeVal, inplace = True)\n",
        "print(data[\"MSZoning\"].to_string())"
      ],
      "metadata": {
        "id": "f8Oo9nsq56CA"
      },
      "execution_count": null,
      "outputs": []
    },
    {
      "cell_type": "code",
      "source": [
        "#Filling mode value in place of NA cell.\n",
        "mode_val = data[\"Alley\"].mode()\n",
        "data[\"Alley\"].fillna(mode_val, inplace = True)\n",
        "print(data[\"Alley\"].to_string())"
      ],
      "metadata": {
        "id": "D8Xrqhz6K-we"
      },
      "execution_count": null,
      "outputs": []
    },
    {
      "cell_type": "code",
      "source": [
        "#Replacing None value from \"MasVnrType\" column\n",
        "mode_MasVnrType = data[\"MasVnrType\"].mode()[0]\n",
        "d = data[\"MasVnrType\"]\n",
        "print(d.head(20))"
      ],
      "metadata": {
        "id": "E-tpcl_H5c23"
      },
      "execution_count": null,
      "outputs": []
    },
    {
      "cell_type": "code",
      "source": [
        "print(data[\"MasVnrArea\"].head(50))"
      ],
      "metadata": {
        "id": "FMsU5P7T-Pcr"
      },
      "execution_count": null,
      "outputs": []
    },
    {
      "cell_type": "code",
      "source": [
        "data[\"MasVnrArea\"].describe()"
      ],
      "metadata": {
        "id": "dEY8Ro_-1mnr"
      },
      "execution_count": null,
      "outputs": []
    }
  ]
}